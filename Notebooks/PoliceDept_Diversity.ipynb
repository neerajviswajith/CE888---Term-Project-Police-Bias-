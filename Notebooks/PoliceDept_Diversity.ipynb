{
  "nbformat": 4,
  "nbformat_minor": 0,
  "metadata": {
    "colab": {
      "name": "Police_Strength_Data.ipynb",
      "provenance": [],
      "toc_visible": true,
      "authorship_tag": "ABX9TyOkE93HHBR4WpPH1fqSRf37",
      "include_colab_link": true
    },
    "kernelspec": {
      "name": "python3",
      "display_name": "Python 3"
    },
    "language_info": {
      "name": "python"
    }
  },
  "cells": [
    {
      "cell_type": "markdown",
      "metadata": {
        "id": "view-in-github",
        "colab_type": "text"
      },
      "source": [
        "<a href=\"https://colab.research.google.com/github/neerajthandayan/CourseProject/blob/main/Notebooks/PoliceDept_Diversity.ipynb\" target=\"_parent\"><img src=\"https://colab.research.google.com/assets/colab-badge.svg\" alt=\"Open In Colab\"/></a>"
      ]
    },
    {
      "cell_type": "markdown",
      "metadata": {
        "id": "cQnJ6I9_buA3"
      },
      "source": [
        "## Calculating the Diversity of Police Forces in England and Wales"
      ]
    },
    {
      "cell_type": "code",
      "metadata": {
        "id": "R01o7QvK-tUM"
      },
      "source": [
        "# Loading Libraries\n",
        "\n",
        "import pandas as pd\n",
        "import numpy as np"
      ],
      "execution_count": 1,
      "outputs": []
    },
    {
      "cell_type": "code",
      "metadata": {
        "colab": {
          "base_uri": "https://localhost:8080/",
          "height": 246
        },
        "id": "Cl9pNnnR-5_Z",
        "outputId": "9d3227c9-5d87-4bb6-fc94-9095dc38effd"
      },
      "source": [
        "# Data Retrieved From: https://www.gov.uk/government/statistics/police-service-strength-england-and-wales-31-march-2012\n",
        "\n",
        "df = pd.read_excel('https://assets.publishing.service.gov.uk/government/uploads/system/uploads/attachment_data/file/115784/hosb0912-tabs.xls', sheet_name='Table 8', header=4)\n",
        "df = df.iloc[:43,:-3]\n",
        "df = df.drop(columns=['Not stated','Total male'])\n",
        "df.head(5)"
      ],
      "execution_count": 2,
      "outputs": [
        {
          "output_type": "execute_result",
          "data": {
            "text/html": [
              "<div>\n",
              "<style scoped>\n",
              "    .dataframe tbody tr th:only-of-type {\n",
              "        vertical-align: middle;\n",
              "    }\n",
              "\n",
              "    .dataframe tbody tr th {\n",
              "        vertical-align: top;\n",
              "    }\n",
              "\n",
              "    .dataframe thead th {\n",
              "        text-align: right;\n",
              "    }\n",
              "</style>\n",
              "<table border=\"1\" class=\"dataframe\">\n",
              "  <thead>\n",
              "    <tr style=\"text-align: right;\">\n",
              "      <th></th>\n",
              "      <th>Unnamed: 0</th>\n",
              "      <th>White</th>\n",
              "      <th>Mixed</th>\n",
              "      <th>Black or Black British</th>\n",
              "      <th>Asian or Asian British</th>\n",
              "      <th>Chinese or Other ethnic group</th>\n",
              "      <th>White.1</th>\n",
              "      <th>Mixed.1</th>\n",
              "      <th>Black or Black British.1</th>\n",
              "      <th>Asian or Asian British.1</th>\n",
              "      <th>Chinese or Other ethnic group.1</th>\n",
              "    </tr>\n",
              "  </thead>\n",
              "  <tbody>\n",
              "    <tr>\n",
              "      <th>0</th>\n",
              "      <td>Avon and Somerset</td>\n",
              "      <td>1942.32</td>\n",
              "      <td>25.60</td>\n",
              "      <td>11.00</td>\n",
              "      <td>10.00</td>\n",
              "      <td>9.0</td>\n",
              "      <td>734.99</td>\n",
              "      <td>11.48</td>\n",
              "      <td>4.6</td>\n",
              "      <td>0.73</td>\n",
              "      <td>1.0</td>\n",
              "    </tr>\n",
              "    <tr>\n",
              "      <th>1</th>\n",
              "      <td>Bedfordshire</td>\n",
              "      <td>740.00</td>\n",
              "      <td>13.00</td>\n",
              "      <td>7.00</td>\n",
              "      <td>32.00</td>\n",
              "      <td>0.0</td>\n",
              "      <td>330.85</td>\n",
              "      <td>4.53</td>\n",
              "      <td>6.0</td>\n",
              "      <td>5.68</td>\n",
              "      <td>0.0</td>\n",
              "    </tr>\n",
              "    <tr>\n",
              "      <th>2</th>\n",
              "      <td>Cambridgeshire</td>\n",
              "      <td>967.93</td>\n",
              "      <td>5.81</td>\n",
              "      <td>4.81</td>\n",
              "      <td>11.50</td>\n",
              "      <td>3.0</td>\n",
              "      <td>359.40</td>\n",
              "      <td>5.00</td>\n",
              "      <td>1.0</td>\n",
              "      <td>1.00</td>\n",
              "      <td>1.0</td>\n",
              "    </tr>\n",
              "    <tr>\n",
              "      <th>3</th>\n",
              "      <td>Cheshire</td>\n",
              "      <td>1443.96</td>\n",
              "      <td>8.00</td>\n",
              "      <td>2.00</td>\n",
              "      <td>4.00</td>\n",
              "      <td>2.0</td>\n",
              "      <td>532.67</td>\n",
              "      <td>4.00</td>\n",
              "      <td>0.0</td>\n",
              "      <td>2.00</td>\n",
              "      <td>0.0</td>\n",
              "    </tr>\n",
              "    <tr>\n",
              "      <th>4</th>\n",
              "      <td>Cleveland</td>\n",
              "      <td>1136.30</td>\n",
              "      <td>6.00</td>\n",
              "      <td>1.00</td>\n",
              "      <td>13.73</td>\n",
              "      <td>1.0</td>\n",
              "      <td>330.83</td>\n",
              "      <td>0.00</td>\n",
              "      <td>0.0</td>\n",
              "      <td>4.00</td>\n",
              "      <td>1.0</td>\n",
              "    </tr>\n",
              "  </tbody>\n",
              "</table>\n",
              "</div>"
            ],
            "text/plain": [
              "          Unnamed: 0  ...  Chinese or Other ethnic group.1\n",
              "0  Avon and Somerset  ...                              1.0\n",
              "1       Bedfordshire  ...                              0.0\n",
              "2     Cambridgeshire  ...                              1.0\n",
              "3           Cheshire  ...                              0.0\n",
              "4          Cleveland  ...                              1.0\n",
              "\n",
              "[5 rows x 11 columns]"
            ]
          },
          "metadata": {
            "tags": []
          },
          "execution_count": 2
        }
      ]
    },
    {
      "cell_type": "code",
      "metadata": {
        "colab": {
          "base_uri": "https://localhost:8080/",
          "height": 195
        },
        "id": "19JEz-ZCLvxD",
        "outputId": "9159c0bf-2c64-4425-cb94-93cc1f0b6021"
      },
      "source": [
        "sum = pd.DataFrame(df.iloc[:,1:6].values + df.iloc[:,6:].values)\n",
        "pdiv = pd.concat([df['Unnamed: 0'],sum], axis=1)\n",
        "pdiv.columns = ['Geography','White','Mixed','Asian','Black','Other']\n",
        "pdiv = pdiv[['Geography','White', 'Black', 'Asian', 'Other', 'Mixed']]\n",
        "pdiv.iloc[:,1:] = round(pdiv.iloc[:,1:],0)\n",
        "pdiv.head()"
      ],
      "execution_count": 3,
      "outputs": [
        {
          "output_type": "execute_result",
          "data": {
            "text/html": [
              "<div>\n",
              "<style scoped>\n",
              "    .dataframe tbody tr th:only-of-type {\n",
              "        vertical-align: middle;\n",
              "    }\n",
              "\n",
              "    .dataframe tbody tr th {\n",
              "        vertical-align: top;\n",
              "    }\n",
              "\n",
              "    .dataframe thead th {\n",
              "        text-align: right;\n",
              "    }\n",
              "</style>\n",
              "<table border=\"1\" class=\"dataframe\">\n",
              "  <thead>\n",
              "    <tr style=\"text-align: right;\">\n",
              "      <th></th>\n",
              "      <th>Geography</th>\n",
              "      <th>White</th>\n",
              "      <th>Black</th>\n",
              "      <th>Asian</th>\n",
              "      <th>Other</th>\n",
              "      <th>Mixed</th>\n",
              "    </tr>\n",
              "  </thead>\n",
              "  <tbody>\n",
              "    <tr>\n",
              "      <th>0</th>\n",
              "      <td>Avon and Somerset</td>\n",
              "      <td>2677.0</td>\n",
              "      <td>11.0</td>\n",
              "      <td>16.0</td>\n",
              "      <td>10.0</td>\n",
              "      <td>37.0</td>\n",
              "    </tr>\n",
              "    <tr>\n",
              "      <th>1</th>\n",
              "      <td>Bedfordshire</td>\n",
              "      <td>1071.0</td>\n",
              "      <td>38.0</td>\n",
              "      <td>13.0</td>\n",
              "      <td>0.0</td>\n",
              "      <td>18.0</td>\n",
              "    </tr>\n",
              "    <tr>\n",
              "      <th>2</th>\n",
              "      <td>Cambridgeshire</td>\n",
              "      <td>1327.0</td>\n",
              "      <td>12.0</td>\n",
              "      <td>6.0</td>\n",
              "      <td>4.0</td>\n",
              "      <td>11.0</td>\n",
              "    </tr>\n",
              "    <tr>\n",
              "      <th>3</th>\n",
              "      <td>Cheshire</td>\n",
              "      <td>1977.0</td>\n",
              "      <td>6.0</td>\n",
              "      <td>2.0</td>\n",
              "      <td>2.0</td>\n",
              "      <td>12.0</td>\n",
              "    </tr>\n",
              "    <tr>\n",
              "      <th>4</th>\n",
              "      <td>Cleveland</td>\n",
              "      <td>1467.0</td>\n",
              "      <td>18.0</td>\n",
              "      <td>1.0</td>\n",
              "      <td>2.0</td>\n",
              "      <td>6.0</td>\n",
              "    </tr>\n",
              "  </tbody>\n",
              "</table>\n",
              "</div>"
            ],
            "text/plain": [
              "           Geography   White  Black  Asian  Other  Mixed\n",
              "0  Avon and Somerset  2677.0   11.0   16.0   10.0   37.0\n",
              "1       Bedfordshire  1071.0   38.0   13.0    0.0   18.0\n",
              "2     Cambridgeshire  1327.0   12.0    6.0    4.0   11.0\n",
              "3           Cheshire  1977.0    6.0    2.0    2.0   12.0\n",
              "4          Cleveland  1467.0   18.0    1.0    2.0    6.0"
            ]
          },
          "metadata": {
            "tags": []
          },
          "execution_count": 3
        }
      ]
    },
    {
      "cell_type": "code",
      "metadata": {
        "colab": {
          "base_uri": "https://localhost:8080/",
          "height": 195
        },
        "id": "xrdgXGWvRJ1S",
        "outputId": "107bcc2f-369e-46ca-fe9c-9006650511ed"
      },
      "source": [
        "total = pdiv.iloc[:,1:].sum(axis=1)\n",
        "\n",
        "for i in pdiv.columns[1:]:\n",
        "  pdiv[i] = pdiv[i].copy() / total\n",
        "\n",
        "pdiv.head()"
      ],
      "execution_count": 4,
      "outputs": [
        {
          "output_type": "execute_result",
          "data": {
            "text/html": [
              "<div>\n",
              "<style scoped>\n",
              "    .dataframe tbody tr th:only-of-type {\n",
              "        vertical-align: middle;\n",
              "    }\n",
              "\n",
              "    .dataframe tbody tr th {\n",
              "        vertical-align: top;\n",
              "    }\n",
              "\n",
              "    .dataframe thead th {\n",
              "        text-align: right;\n",
              "    }\n",
              "</style>\n",
              "<table border=\"1\" class=\"dataframe\">\n",
              "  <thead>\n",
              "    <tr style=\"text-align: right;\">\n",
              "      <th></th>\n",
              "      <th>Geography</th>\n",
              "      <th>White</th>\n",
              "      <th>Black</th>\n",
              "      <th>Asian</th>\n",
              "      <th>Other</th>\n",
              "      <th>Mixed</th>\n",
              "    </tr>\n",
              "  </thead>\n",
              "  <tbody>\n",
              "    <tr>\n",
              "      <th>0</th>\n",
              "      <td>Avon and Somerset</td>\n",
              "      <td>0.973101</td>\n",
              "      <td>0.003999</td>\n",
              "      <td>0.005816</td>\n",
              "      <td>0.003635</td>\n",
              "      <td>0.013450</td>\n",
              "    </tr>\n",
              "    <tr>\n",
              "      <th>1</th>\n",
              "      <td>Bedfordshire</td>\n",
              "      <td>0.939474</td>\n",
              "      <td>0.033333</td>\n",
              "      <td>0.011404</td>\n",
              "      <td>0.000000</td>\n",
              "      <td>0.015789</td>\n",
              "    </tr>\n",
              "    <tr>\n",
              "      <th>2</th>\n",
              "      <td>Cambridgeshire</td>\n",
              "      <td>0.975735</td>\n",
              "      <td>0.008824</td>\n",
              "      <td>0.004412</td>\n",
              "      <td>0.002941</td>\n",
              "      <td>0.008088</td>\n",
              "    </tr>\n",
              "    <tr>\n",
              "      <th>3</th>\n",
              "      <td>Cheshire</td>\n",
              "      <td>0.988994</td>\n",
              "      <td>0.003002</td>\n",
              "      <td>0.001001</td>\n",
              "      <td>0.001001</td>\n",
              "      <td>0.006003</td>\n",
              "    </tr>\n",
              "    <tr>\n",
              "      <th>4</th>\n",
              "      <td>Cleveland</td>\n",
              "      <td>0.981928</td>\n",
              "      <td>0.012048</td>\n",
              "      <td>0.000669</td>\n",
              "      <td>0.001339</td>\n",
              "      <td>0.004016</td>\n",
              "    </tr>\n",
              "  </tbody>\n",
              "</table>\n",
              "</div>"
            ],
            "text/plain": [
              "           Geography     White     Black     Asian     Other     Mixed\n",
              "0  Avon and Somerset  0.973101  0.003999  0.005816  0.003635  0.013450\n",
              "1       Bedfordshire  0.939474  0.033333  0.011404  0.000000  0.015789\n",
              "2     Cambridgeshire  0.975735  0.008824  0.004412  0.002941  0.008088\n",
              "3           Cheshire  0.988994  0.003002  0.001001  0.001001  0.006003\n",
              "4          Cleveland  0.981928  0.012048  0.000669  0.001339  0.004016"
            ]
          },
          "metadata": {
            "tags": []
          },
          "execution_count": 4
        }
      ]
    },
    {
      "cell_type": "code",
      "metadata": {
        "colab": {
          "base_uri": "https://localhost:8080/",
          "height": 195
        },
        "id": "o50cpy4-XCQE",
        "outputId": "f679a86f-7647-45e4-be66-bead31b1a0bf"
      },
      "source": [
        "pdiv.iloc[:,1:] = np.square(pdiv.iloc[:,1:].copy())\n",
        "pdiv.head()"
      ],
      "execution_count": 5,
      "outputs": [
        {
          "output_type": "execute_result",
          "data": {
            "text/html": [
              "<div>\n",
              "<style scoped>\n",
              "    .dataframe tbody tr th:only-of-type {\n",
              "        vertical-align: middle;\n",
              "    }\n",
              "\n",
              "    .dataframe tbody tr th {\n",
              "        vertical-align: top;\n",
              "    }\n",
              "\n",
              "    .dataframe thead th {\n",
              "        text-align: right;\n",
              "    }\n",
              "</style>\n",
              "<table border=\"1\" class=\"dataframe\">\n",
              "  <thead>\n",
              "    <tr style=\"text-align: right;\">\n",
              "      <th></th>\n",
              "      <th>Geography</th>\n",
              "      <th>White</th>\n",
              "      <th>Black</th>\n",
              "      <th>Asian</th>\n",
              "      <th>Other</th>\n",
              "      <th>Mixed</th>\n",
              "    </tr>\n",
              "  </thead>\n",
              "  <tbody>\n",
              "    <tr>\n",
              "      <th>0</th>\n",
              "      <td>Avon and Somerset</td>\n",
              "      <td>0.946925</td>\n",
              "      <td>0.000016</td>\n",
              "      <td>3.382663e-05</td>\n",
              "      <td>0.000013</td>\n",
              "      <td>0.000181</td>\n",
              "    </tr>\n",
              "    <tr>\n",
              "      <th>1</th>\n",
              "      <td>Bedfordshire</td>\n",
              "      <td>0.882611</td>\n",
              "      <td>0.001111</td>\n",
              "      <td>1.300400e-04</td>\n",
              "      <td>0.000000</td>\n",
              "      <td>0.000249</td>\n",
              "    </tr>\n",
              "    <tr>\n",
              "      <th>2</th>\n",
              "      <td>Cambridgeshire</td>\n",
              "      <td>0.952059</td>\n",
              "      <td>0.000078</td>\n",
              "      <td>1.946367e-05</td>\n",
              "      <td>0.000009</td>\n",
              "      <td>0.000065</td>\n",
              "    </tr>\n",
              "    <tr>\n",
              "      <th>3</th>\n",
              "      <td>Cheshire</td>\n",
              "      <td>0.978110</td>\n",
              "      <td>0.000009</td>\n",
              "      <td>1.001001e-06</td>\n",
              "      <td>0.000001</td>\n",
              "      <td>0.000036</td>\n",
              "    </tr>\n",
              "    <tr>\n",
              "      <th>4</th>\n",
              "      <td>Cleveland</td>\n",
              "      <td>0.964182</td>\n",
              "      <td>0.000145</td>\n",
              "      <td>4.480214e-07</td>\n",
              "      <td>0.000002</td>\n",
              "      <td>0.000016</td>\n",
              "    </tr>\n",
              "  </tbody>\n",
              "</table>\n",
              "</div>"
            ],
            "text/plain": [
              "           Geography     White     Black         Asian     Other     Mixed\n",
              "0  Avon and Somerset  0.946925  0.000016  3.382663e-05  0.000013  0.000181\n",
              "1       Bedfordshire  0.882611  0.001111  1.300400e-04  0.000000  0.000249\n",
              "2     Cambridgeshire  0.952059  0.000078  1.946367e-05  0.000009  0.000065\n",
              "3           Cheshire  0.978110  0.000009  1.001001e-06  0.000001  0.000036\n",
              "4          Cleveland  0.964182  0.000145  4.480214e-07  0.000002  0.000016"
            ]
          },
          "metadata": {
            "tags": []
          },
          "execution_count": 5
        }
      ]
    },
    {
      "cell_type": "code",
      "metadata": {
        "colab": {
          "base_uri": "https://localhost:8080/",
          "height": 195
        },
        "id": "oFg1klzDTgKj",
        "outputId": "815aa1a9-d5de-43d2-a502-688b832b5a0a"
      },
      "source": [
        "# Using EFL index to Measure Diversity\n",
        "\n",
        "pdiv['PD_Diversity'] = 1 - pdiv.iloc[:,1:].sum(axis=1)\n",
        "police_div = pdiv[['Geography','PD_Diversity']]\n",
        "police_div.sort_values(by='PD_Diversity',ascending=False).head()"
      ],
      "execution_count": 6,
      "outputs": [
        {
          "output_type": "execute_result",
          "data": {
            "text/html": [
              "<div>\n",
              "<style scoped>\n",
              "    .dataframe tbody tr th:only-of-type {\n",
              "        vertical-align: middle;\n",
              "    }\n",
              "\n",
              "    .dataframe tbody tr th {\n",
              "        vertical-align: top;\n",
              "    }\n",
              "\n",
              "    .dataframe thead th {\n",
              "        text-align: right;\n",
              "    }\n",
              "</style>\n",
              "<table border=\"1\" class=\"dataframe\">\n",
              "  <thead>\n",
              "    <tr style=\"text-align: right;\">\n",
              "      <th></th>\n",
              "      <th>Geography</th>\n",
              "      <th>PD_Diversity</th>\n",
              "    </tr>\n",
              "  </thead>\n",
              "  <tbody>\n",
              "    <tr>\n",
              "      <th>22</th>\n",
              "      <td>Metropolitan Police</td>\n",
              "      <td>0.190240</td>\n",
              "    </tr>\n",
              "    <tr>\n",
              "      <th>36</th>\n",
              "      <td>West Midlands</td>\n",
              "      <td>0.157681</td>\n",
              "    </tr>\n",
              "    <tr>\n",
              "      <th>18</th>\n",
              "      <td>Leicestershire</td>\n",
              "      <td>0.130356</td>\n",
              "    </tr>\n",
              "    <tr>\n",
              "      <th>1</th>\n",
              "      <td>Bedfordshire</td>\n",
              "      <td>0.115899</td>\n",
              "    </tr>\n",
              "    <tr>\n",
              "      <th>20</th>\n",
              "      <td>London, City of</td>\n",
              "      <td>0.111393</td>\n",
              "    </tr>\n",
              "  </tbody>\n",
              "</table>\n",
              "</div>"
            ],
            "text/plain": [
              "              Geography  PD_Diversity\n",
              "22  Metropolitan Police      0.190240\n",
              "36        West Midlands      0.157681\n",
              "18       Leicestershire      0.130356\n",
              "1          Bedfordshire      0.115899\n",
              "20      London, City of      0.111393"
            ]
          },
          "metadata": {
            "tags": []
          },
          "execution_count": 6
        }
      ]
    },
    {
      "cell_type": "code",
      "metadata": {
        "id": "LKfbK2a6bro-"
      },
      "source": [
        "# Creating Csv file for Police Diversity\n",
        "\n",
        "police_div.to_csv('police_diversity.csv')"
      ],
      "execution_count": 7,
      "outputs": []
    }
  ]
}