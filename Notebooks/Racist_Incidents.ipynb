{
  "nbformat": 4,
  "nbformat_minor": 0,
  "metadata": {
    "colab": {
      "name": "Hate_Crime_Data.ipynb",
      "provenance": [],
      "toc_visible": true,
      "authorship_tag": "ABX9TyPawsNNflwZGc0g0Pirwa59",
      "include_colab_link": true
    },
    "kernelspec": {
      "name": "python3",
      "display_name": "Python 3"
    },
    "language_info": {
      "name": "python"
    }
  },
  "cells": [
    {
      "cell_type": "markdown",
      "metadata": {
        "id": "view-in-github",
        "colab_type": "text"
      },
      "source": [
        "<a href=\"https://colab.research.google.com/github/neerajthandayan/CourseProject/blob/main/Notebooks/Racist_Incidents.ipynb\" target=\"_parent\"><img src=\"https://colab.research.google.com/assets/colab-badge.svg\" alt=\"Open In Colab\"/></a>"
      ]
    },
    {
      "cell_type": "markdown",
      "metadata": {
        "id": "yjda1RE0ZWp7"
      },
      "source": [
        "## Calculating Racist Incident Rate Across England and Wales Police Force Regions"
      ]
    },
    {
      "cell_type": "code",
      "metadata": {
        "id": "SlicT9525l5E"
      },
      "source": [
        "# Libraries\n",
        "\n",
        "import pandas as pd\n",
        "import numpy as np"
      ],
      "execution_count": 1,
      "outputs": []
    },
    {
      "cell_type": "code",
      "metadata": {
        "colab": {
          "base_uri": "https://localhost:8080/"
        },
        "id": "XINly5L85vR3",
        "outputId": "15fb34da-fb1f-4b8b-ff09-b059fd20e36a"
      },
      "source": [
        "# Data Retrieved From: https://www.gov.uk/government/statistics/racist-incidents-england-and-wales-2010-to-2011\n",
        "\n",
        "!wget 'https://assets.publishing.service.gov.uk/government/uploads/system/uploads/attachment_data/file/116286/hosf0111-xls.xls'"
      ],
      "execution_count": 2,
      "outputs": [
        {
          "output_type": "stream",
          "text": [
            "--2021-04-27 02:21:16--  https://assets.publishing.service.gov.uk/government/uploads/system/uploads/attachment_data/file/116286/hosf0111-xls.xls\n",
            "Resolving assets.publishing.service.gov.uk (assets.publishing.service.gov.uk)... 151.101.0.144, 151.101.64.144, 151.101.128.144, ...\n",
            "Connecting to assets.publishing.service.gov.uk (assets.publishing.service.gov.uk)|151.101.0.144|:443... connected.\n",
            "HTTP request sent, awaiting response... 200 OK\n",
            "Length: 44544 (44K) [application/vnd.ms-excel]\n",
            "Saving to: ‘hosf0111-xls.xls.2’\n",
            "\n",
            "hosf0111-xls.xls.2  100%[===================>]  43.50K  --.-KB/s    in 0.01s   \n",
            "\n",
            "2021-04-27 02:21:16 (3.99 MB/s) - ‘hosf0111-xls.xls.2’ saved [44544/44544]\n",
            "\n"
          ],
          "name": "stdout"
        }
      ]
    },
    {
      "cell_type": "code",
      "metadata": {
        "id": "3YmlOmsf5xa2",
        "colab": {
          "base_uri": "https://localhost:8080/",
          "height": 195
        },
        "outputId": "29c78d30-323c-4e95-cdfc-302481e929bd"
      },
      "source": [
        "hc = pd.read_excel('hosf0111-xls.xls', header=26)\n",
        "hc = hc.iloc[:45,2:7].drop(columns=['Unnamed: 3','2008/09','2009/10'])\n",
        "hc = hc.dropna()\n",
        "hc.columns = ['Geography','Racist_Incidents']\n",
        "hc.sort_values(by='Racist_Incidents', ascending=False).head()"
      ],
      "execution_count": 3,
      "outputs": [
        {
          "output_type": "execute_result",
          "data": {
            "text/html": [
              "<div>\n",
              "<style scoped>\n",
              "    .dataframe tbody tr th:only-of-type {\n",
              "        vertical-align: middle;\n",
              "    }\n",
              "\n",
              "    .dataframe tbody tr th {\n",
              "        vertical-align: top;\n",
              "    }\n",
              "\n",
              "    .dataframe thead th {\n",
              "        text-align: right;\n",
              "    }\n",
              "</style>\n",
              "<table border=\"1\" class=\"dataframe\">\n",
              "  <thead>\n",
              "    <tr style=\"text-align: right;\">\n",
              "      <th></th>\n",
              "      <th>Geography</th>\n",
              "      <th>Racist_Incidents</th>\n",
              "    </tr>\n",
              "  </thead>\n",
              "  <tbody>\n",
              "    <tr>\n",
              "      <th>44</th>\n",
              "      <td>England and Wales</td>\n",
              "      <td>51187.0</td>\n",
              "    </tr>\n",
              "    <tr>\n",
              "      <th>23</th>\n",
              "      <td>Metropolitan Police</td>\n",
              "      <td>9405.0</td>\n",
              "    </tr>\n",
              "    <tr>\n",
              "      <th>13</th>\n",
              "      <td>Greater Manchester</td>\n",
              "      <td>3288.0</td>\n",
              "    </tr>\n",
              "    <tr>\n",
              "      <th>38</th>\n",
              "      <td>West Yorkshire</td>\n",
              "      <td>2803.0</td>\n",
              "    </tr>\n",
              "    <tr>\n",
              "      <th>37</th>\n",
              "      <td>West Midlands</td>\n",
              "      <td>2646.0</td>\n",
              "    </tr>\n",
              "  </tbody>\n",
              "</table>\n",
              "</div>"
            ],
            "text/plain": [
              "              Geography  Racist_Incidents\n",
              "44    England and Wales           51187.0\n",
              "23  Metropolitan Police            9405.0\n",
              "13   Greater Manchester            3288.0\n",
              "38       West Yorkshire            2803.0\n",
              "37        West Midlands            2646.0"
            ]
          },
          "metadata": {
            "tags": []
          },
          "execution_count": 3
        }
      ]
    },
    {
      "cell_type": "markdown",
      "metadata": {
        "id": "pNlaKUqA9lff"
      },
      "source": [
        "#### Total Offences Data"
      ]
    },
    {
      "cell_type": "code",
      "metadata": {
        "colab": {
          "base_uri": "https://localhost:8080/"
        },
        "id": "QPT9xu2T9kpX",
        "outputId": "7752bcf9-74ae-46da-e09a-986c3d94462c"
      },
      "source": [
        "# Total Offence Data Retrieved From: https://www.gov.uk/government/statistics/crimes-detected-in-england-and-wales-2010-to-2011\n",
        "\n",
        "!wget 'https://assets.publishing.service.gov.uk/government/uploads/system/uploads/attachment_data/file/116406/hosb1111-pfatabs.xls'"
      ],
      "execution_count": 4,
      "outputs": [
        {
          "output_type": "stream",
          "text": [
            "--2021-04-27 02:21:16--  https://assets.publishing.service.gov.uk/government/uploads/system/uploads/attachment_data/file/116406/hosb1111-pfatabs.xls\n",
            "Resolving assets.publishing.service.gov.uk (assets.publishing.service.gov.uk)... 151.101.0.144, 151.101.64.144, 151.101.128.144, ...\n",
            "Connecting to assets.publishing.service.gov.uk (assets.publishing.service.gov.uk)|151.101.0.144|:443... connected.\n",
            "HTTP request sent, awaiting response... 200 OK\n",
            "Length: 99840 (98K) [application/vnd.ms-excel]\n",
            "Saving to: ‘hosb1111-pfatabs.xls.2’\n",
            "\n",
            "hosb1111-pfatabs.xl 100%[===================>]  97.50K  --.-KB/s    in 0.02s   \n",
            "\n",
            "2021-04-27 02:21:17 (4.72 MB/s) - ‘hosb1111-pfatabs.xls.2’ saved [99840/99840]\n",
            "\n"
          ],
          "name": "stdout"
        }
      ]
    },
    {
      "cell_type": "code",
      "metadata": {
        "colab": {
          "base_uri": "https://localhost:8080/",
          "height": 195
        },
        "id": "W975r5tC9sLw",
        "outputId": "d4639387-c5b0-4343-e4a9-fed09f30e7a3"
      },
      "source": [
        "off = pd.read_excel('hosb1111-pfatabs.xls', sheet_name='Table 1', header=6)\n",
        "off = off.iloc[:63,:2].dropna().reset_index(drop=True)\n",
        "off.columns = ['Geography','Total_Offences']\n",
        "off.head()"
      ],
      "execution_count": 5,
      "outputs": [
        {
          "output_type": "execute_result",
          "data": {
            "text/html": [
              "<div>\n",
              "<style scoped>\n",
              "    .dataframe tbody tr th:only-of-type {\n",
              "        vertical-align: middle;\n",
              "    }\n",
              "\n",
              "    .dataframe tbody tr th {\n",
              "        vertical-align: top;\n",
              "    }\n",
              "\n",
              "    .dataframe thead th {\n",
              "        text-align: right;\n",
              "    }\n",
              "</style>\n",
              "<table border=\"1\" class=\"dataframe\">\n",
              "  <thead>\n",
              "    <tr style=\"text-align: right;\">\n",
              "      <th></th>\n",
              "      <th>Geography</th>\n",
              "      <th>Total_Offences</th>\n",
              "    </tr>\n",
              "  </thead>\n",
              "  <tbody>\n",
              "    <tr>\n",
              "      <th>0</th>\n",
              "      <td>Cleveland</td>\n",
              "      <td>43018.0</td>\n",
              "    </tr>\n",
              "    <tr>\n",
              "      <th>1</th>\n",
              "      <td>Durham</td>\n",
              "      <td>36517.0</td>\n",
              "    </tr>\n",
              "    <tr>\n",
              "      <th>2</th>\n",
              "      <td>Northumbria</td>\n",
              "      <td>82299.0</td>\n",
              "    </tr>\n",
              "    <tr>\n",
              "      <th>3</th>\n",
              "      <td>North East Region</td>\n",
              "      <td>161834.0</td>\n",
              "    </tr>\n",
              "    <tr>\n",
              "      <th>4</th>\n",
              "      <td>Cheshire</td>\n",
              "      <td>63729.0</td>\n",
              "    </tr>\n",
              "  </tbody>\n",
              "</table>\n",
              "</div>"
            ],
            "text/plain": [
              "           Geography  Total_Offences\n",
              "0          Cleveland         43018.0\n",
              "1             Durham         36517.0\n",
              "2        Northumbria         82299.0\n",
              "3  North East Region        161834.0\n",
              "4           Cheshire         63729.0"
            ]
          },
          "metadata": {
            "tags": []
          },
          "execution_count": 5
        }
      ]
    },
    {
      "cell_type": "markdown",
      "metadata": {
        "id": "BwdDdlsg-jF6"
      },
      "source": [
        "#### Merging DataFrames to estimate Ethnic Hate Crime Rate"
      ]
    },
    {
      "cell_type": "code",
      "metadata": {
        "colab": {
          "base_uri": "https://localhost:8080/",
          "height": 343
        },
        "id": "Wsjwhhjf-iOP",
        "outputId": "3fb63089-4651-44a1-8a4e-504294d01d9c"
      },
      "source": [
        "ecr = hc.merge(off, on='Geography')\n",
        "\n",
        "# To calculate the racist incident rate, we take the ration bewteen racist incident and sum of racist incedents and total crimes commited.\n",
        "# Here the sume of the RI and total crimes are taken as race indenst are not incorporated when calculation tital offences.\n",
        "ecr['RI_Rate'] = ecr['Racist_Incidents']/(ecr['Total_Offences'] + ecr['Racist_Incidents'])\n",
        "ecr.sort_values(by='RI_Rate', ascending=False).head(10)"
      ],
      "execution_count": 6,
      "outputs": [
        {
          "output_type": "execute_result",
          "data": {
            "text/html": [
              "<div>\n",
              "<style scoped>\n",
              "    .dataframe tbody tr th:only-of-type {\n",
              "        vertical-align: middle;\n",
              "    }\n",
              "\n",
              "    .dataframe tbody tr th {\n",
              "        vertical-align: top;\n",
              "    }\n",
              "\n",
              "    .dataframe thead th {\n",
              "        text-align: right;\n",
              "    }\n",
              "</style>\n",
              "<table border=\"1\" class=\"dataframe\">\n",
              "  <thead>\n",
              "    <tr style=\"text-align: right;\">\n",
              "      <th></th>\n",
              "      <th>Geography</th>\n",
              "      <th>Racist_Incidents</th>\n",
              "      <th>Total_Offences</th>\n",
              "      <th>RI_Rate</th>\n",
              "    </tr>\n",
              "  </thead>\n",
              "  <tbody>\n",
              "    <tr>\n",
              "      <th>40</th>\n",
              "      <td>South Wales</td>\n",
              "      <td>1974.0</td>\n",
              "      <td>93789.0</td>\n",
              "      <td>0.020613</td>\n",
              "    </tr>\n",
              "    <tr>\n",
              "      <th>26</th>\n",
              "      <td>South Yorkshire</td>\n",
              "      <td>2019.0</td>\n",
              "      <td>102741.0</td>\n",
              "      <td>0.019273</td>\n",
              "    </tr>\n",
              "    <tr>\n",
              "      <th>27</th>\n",
              "      <td>Staffordshire</td>\n",
              "      <td>1354.0</td>\n",
              "      <td>70890.0</td>\n",
              "      <td>0.018742</td>\n",
              "    </tr>\n",
              "    <tr>\n",
              "      <th>16</th>\n",
              "      <td>Leicestershire</td>\n",
              "      <td>1342.0</td>\n",
              "      <td>71355.0</td>\n",
              "      <td>0.018460</td>\n",
              "    </tr>\n",
              "    <tr>\n",
              "      <th>12</th>\n",
              "      <td>Hertfordshire</td>\n",
              "      <td>1133.0</td>\n",
              "      <td>66441.0</td>\n",
              "      <td>0.016767</td>\n",
              "    </tr>\n",
              "    <tr>\n",
              "      <th>15</th>\n",
              "      <td>Lancashire</td>\n",
              "      <td>1735.0</td>\n",
              "      <td>102503.0</td>\n",
              "      <td>0.016645</td>\n",
              "    </tr>\n",
              "    <tr>\n",
              "      <th>22</th>\n",
              "      <td>Northamptonshire</td>\n",
              "      <td>801.0</td>\n",
              "      <td>49288.0</td>\n",
              "      <td>0.015992</td>\n",
              "    </tr>\n",
              "    <tr>\n",
              "      <th>29</th>\n",
              "      <td>Surrey</td>\n",
              "      <td>1002.0</td>\n",
              "      <td>65125.0</td>\n",
              "      <td>0.015153</td>\n",
              "    </tr>\n",
              "    <tr>\n",
              "      <th>25</th>\n",
              "      <td>Nottinghamshire</td>\n",
              "      <td>1256.0</td>\n",
              "      <td>84263.0</td>\n",
              "      <td>0.014687</td>\n",
              "    </tr>\n",
              "    <tr>\n",
              "      <th>35</th>\n",
              "      <td>West Yorkshire</td>\n",
              "      <td>2803.0</td>\n",
              "      <td>189388.0</td>\n",
              "      <td>0.014584</td>\n",
              "    </tr>\n",
              "  </tbody>\n",
              "</table>\n",
              "</div>"
            ],
            "text/plain": [
              "           Geography  Racist_Incidents  Total_Offences   RI_Rate\n",
              "40       South Wales            1974.0         93789.0  0.020613\n",
              "26   South Yorkshire            2019.0        102741.0  0.019273\n",
              "27     Staffordshire            1354.0         70890.0  0.018742\n",
              "16    Leicestershire            1342.0         71355.0  0.018460\n",
              "12     Hertfordshire            1133.0         66441.0  0.016767\n",
              "15        Lancashire            1735.0        102503.0  0.016645\n",
              "22  Northamptonshire             801.0         49288.0  0.015992\n",
              "29            Surrey            1002.0         65125.0  0.015153\n",
              "25   Nottinghamshire            1256.0         84263.0  0.014687\n",
              "35    West Yorkshire            2803.0        189388.0  0.014584"
            ]
          },
          "metadata": {
            "tags": []
          },
          "execution_count": 6
        }
      ]
    },
    {
      "cell_type": "code",
      "metadata": {
        "id": "-ps7BnpL_ebB"
      },
      "source": [
        "ecr[['Geography','RI_Rate']].to_csv('racist_incidents.csv')"
      ],
      "execution_count": 7,
      "outputs": []
    }
  ]
}