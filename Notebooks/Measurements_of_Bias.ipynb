{
  "nbformat": 4,
  "nbformat_minor": 0,
  "metadata": {
    "colab": {
      "name": "Measurements_of_Bias.ipynb",
      "provenance": [],
      "authorship_tag": "ABX9TyNGT35d470T0K/42VcEkHLr",
      "include_colab_link": true
    },
    "kernelspec": {
      "name": "python3",
      "display_name": "Python 3"
    },
    "language_info": {
      "name": "python"
    }
  },
  "cells": [
    {
      "cell_type": "markdown",
      "metadata": {
        "id": "view-in-github",
        "colab_type": "text"
      },
      "source": [
        "<a href=\"https://colab.research.google.com/github/neerajthandayan/CourseProject/blob/main/Notebooks/Measurements_of_Bias.ipynb\" target=\"_parent\"><img src=\"https://colab.research.google.com/assets/colab-badge.svg\" alt=\"Open In Colab\"/></a>"
      ]
    },
    {
      "cell_type": "markdown",
      "metadata": {
        "id": "Q-LAVX37p6We"
      },
      "source": [
        "# Measurements of Police Bias\n",
        "#### Referring to Bowling and Phillips (2009) study on comparing criterion for estimating the police bias, this notebook explores the four different citerion stated by the same when assessing Police bias based on Stop & Search Data, these being:\n",
        "\n",
        "\n",
        "*   Resident Population Data\n",
        "*   Available Population Data\n",
        "*   Crime Rates\n",
        "*   Stop & Search 'Hit Rate'\n",
        "\n"
      ]
    },
    {
      "cell_type": "code",
      "metadata": {
        "id": "oVfD-_cMrqrI"
      },
      "source": [
        "# Importing Libraies\n",
        "\n",
        "import pandas as pd\n",
        "import numpy as np"
      ],
      "execution_count": 1,
      "outputs": []
    },
    {
      "cell_type": "markdown",
      "metadata": {
        "id": "nH3U8e6JrhFn"
      },
      "source": [
        "## 1. Stop & Search vs. Resident Population (Over-estimation error)\n",
        "#### Here, resident population is defined as the total population in PFA. Hence to compare the same with stop and search values, we take the ratio  between total population and stop and search incidence by ethinicity."
      ]
    },
    {
      "cell_type": "code",
      "metadata": {
        "colab": {
          "base_uri": "https://localhost:8080/",
          "height": 195
        },
        "id": "Z7GpYGpHr6d_",
        "outputId": "b21948a8-3413-4264-b30f-860c9dc4aab5"
      },
      "source": [
        "# Importing the PFA population data and Stop & Search Data\n",
        "\n",
        "ss_data = pd.read_csv('https://raw.githubusercontent.com/neerajthandayan/CourseProject/main/Data/ss_data.csv', index_col=0)\n",
        "pop_data = pd.read_csv('https://raw.githubusercontent.com/neerajthandayan/CourseProject/main/Data/pop_data.csv', index_col=0)\n",
        "rs = ss_data.merge(pop_data, on='Geography')\n",
        "rs.head()"
      ],
      "execution_count": 2,
      "outputs": [
        {
          "output_type": "execute_result",
          "data": {
            "text/html": [
              "<div>\n",
              "<style scoped>\n",
              "    .dataframe tbody tr th:only-of-type {\n",
              "        vertical-align: middle;\n",
              "    }\n",
              "\n",
              "    .dataframe tbody tr th {\n",
              "        vertical-align: top;\n",
              "    }\n",
              "\n",
              "    .dataframe thead th {\n",
              "        text-align: right;\n",
              "    }\n",
              "</style>\n",
              "<table border=\"1\" class=\"dataframe\">\n",
              "  <thead>\n",
              "    <tr style=\"text-align: right;\">\n",
              "      <th></th>\n",
              "      <th>Geography</th>\n",
              "      <th>SS_White</th>\n",
              "      <th>SS_Black</th>\n",
              "      <th>SS_Asian</th>\n",
              "      <th>SS_Other</th>\n",
              "      <th>SS_Mixed</th>\n",
              "      <th>White</th>\n",
              "      <th>Black</th>\n",
              "      <th>Asian</th>\n",
              "      <th>Other</th>\n",
              "      <th>Mixed</th>\n",
              "    </tr>\n",
              "  </thead>\n",
              "  <tbody>\n",
              "    <tr>\n",
              "      <th>0</th>\n",
              "      <td>Cleveland</td>\n",
              "      <td>28793.0</td>\n",
              "      <td>227.0</td>\n",
              "      <td>605.0</td>\n",
              "      <td>150.0</td>\n",
              "      <td>136.0</td>\n",
              "      <td>526456</td>\n",
              "      <td>3156</td>\n",
              "      <td>17419</td>\n",
              "      <td>4434</td>\n",
              "      <td>5762</td>\n",
              "    </tr>\n",
              "    <tr>\n",
              "      <th>1</th>\n",
              "      <td>Durham</td>\n",
              "      <td>4848.0</td>\n",
              "      <td>15.0</td>\n",
              "      <td>15.0</td>\n",
              "      <td>10.0</td>\n",
              "      <td>14.0</td>\n",
              "      <td>605364</td>\n",
              "      <td>1058</td>\n",
              "      <td>5114</td>\n",
              "      <td>3030</td>\n",
              "      <td>4240</td>\n",
              "    </tr>\n",
              "    <tr>\n",
              "      <th>2</th>\n",
              "      <td>Northumbria</td>\n",
              "      <td>42225.0</td>\n",
              "      <td>189.0</td>\n",
              "      <td>864.0</td>\n",
              "      <td>49.0</td>\n",
              "      <td>114.0</td>\n",
              "      <td>1343747</td>\n",
              "      <td>9006</td>\n",
              "      <td>37782</td>\n",
              "      <td>17871</td>\n",
              "      <td>12447</td>\n",
              "    </tr>\n",
              "    <tr>\n",
              "      <th>3</th>\n",
              "      <td>Cheshire</td>\n",
              "      <td>5746.0</td>\n",
              "      <td>64.0</td>\n",
              "      <td>63.0</td>\n",
              "      <td>78.0</td>\n",
              "      <td>51.0</td>\n",
              "      <td>995998</td>\n",
              "      <td>3264</td>\n",
              "      <td>12794</td>\n",
              "      <td>5230</td>\n",
              "      <td>10423</td>\n",
              "    </tr>\n",
              "    <tr>\n",
              "      <th>4</th>\n",
              "      <td>Cumbria</td>\n",
              "      <td>9652.0</td>\n",
              "      <td>29.0</td>\n",
              "      <td>54.0</td>\n",
              "      <td>11.0</td>\n",
              "      <td>31.0</td>\n",
              "      <td>492257</td>\n",
              "      <td>579</td>\n",
              "      <td>2913</td>\n",
              "      <td>1605</td>\n",
              "      <td>2504</td>\n",
              "    </tr>\n",
              "  </tbody>\n",
              "</table>\n",
              "</div>"
            ],
            "text/plain": [
              "     Geography  SS_White  SS_Black  SS_Asian  ...  Black  Asian  Other  Mixed\n",
              "0    Cleveland   28793.0     227.0     605.0  ...   3156  17419   4434   5762\n",
              "1       Durham    4848.0      15.0      15.0  ...   1058   5114   3030   4240\n",
              "2  Northumbria   42225.0     189.0     864.0  ...   9006  37782  17871  12447\n",
              "3     Cheshire    5746.0      64.0      63.0  ...   3264  12794   5230  10423\n",
              "4      Cumbria    9652.0      29.0      54.0  ...    579   2913   1605   2504\n",
              "\n",
              "[5 rows x 11 columns]"
            ]
          },
          "metadata": {
            "tags": []
          },
          "execution_count": 2
        }
      ]
    },
    {
      "cell_type": "code",
      "metadata": {
        "id": "irkXfy2muR0y"
      },
      "source": [
        "# PFA wise total population\n",
        "\n",
        "total = rs.iloc[:,6:].sum(axis=1).values"
      ],
      "execution_count": 3,
      "outputs": []
    },
    {
      "cell_type": "code",
      "metadata": {
        "colab": {
          "base_uri": "https://localhost:8080/",
          "height": 195
        },
        "id": "NC2jiprnuu4q",
        "outputId": "3ecca2bc-981d-43df-d0fe-46dea26a8ca4"
      },
      "source": [
        "# Comparing SS values based on the Resident population\n",
        "\n",
        "rs1 = rs.iloc[:,:6].copy()\n",
        "\n",
        "for i in rs1.columns[1:6]:\n",
        "  rs1[i] = rs1[i].values/total\n",
        "\n",
        "max = []\n",
        "for i in range(len(rs1)):\n",
        "  coln = rs.columns[6:]\n",
        "  max.append(coln[np.argmax(rs1.iloc[i,1:])])\n",
        "\n",
        "rs1['Max_obs'] = max\n",
        "rs1.head(5)"
      ],
      "execution_count": 4,
      "outputs": [
        {
          "output_type": "execute_result",
          "data": {
            "text/html": [
              "<div>\n",
              "<style scoped>\n",
              "    .dataframe tbody tr th:only-of-type {\n",
              "        vertical-align: middle;\n",
              "    }\n",
              "\n",
              "    .dataframe tbody tr th {\n",
              "        vertical-align: top;\n",
              "    }\n",
              "\n",
              "    .dataframe thead th {\n",
              "        text-align: right;\n",
              "    }\n",
              "</style>\n",
              "<table border=\"1\" class=\"dataframe\">\n",
              "  <thead>\n",
              "    <tr style=\"text-align: right;\">\n",
              "      <th></th>\n",
              "      <th>Geography</th>\n",
              "      <th>SS_White</th>\n",
              "      <th>SS_Black</th>\n",
              "      <th>SS_Asian</th>\n",
              "      <th>SS_Other</th>\n",
              "      <th>SS_Mixed</th>\n",
              "      <th>Max_obs</th>\n",
              "    </tr>\n",
              "  </thead>\n",
              "  <tbody>\n",
              "    <tr>\n",
              "      <th>0</th>\n",
              "      <td>Cleveland</td>\n",
              "      <td>0.051672</td>\n",
              "      <td>0.000407</td>\n",
              "      <td>0.001086</td>\n",
              "      <td>0.000269</td>\n",
              "      <td>0.000244</td>\n",
              "      <td>White</td>\n",
              "    </tr>\n",
              "    <tr>\n",
              "      <th>1</th>\n",
              "      <td>Durham</td>\n",
              "      <td>0.007834</td>\n",
              "      <td>0.000024</td>\n",
              "      <td>0.000024</td>\n",
              "      <td>0.000016</td>\n",
              "      <td>0.000023</td>\n",
              "      <td>White</td>\n",
              "    </tr>\n",
              "    <tr>\n",
              "      <th>2</th>\n",
              "      <td>Northumbria</td>\n",
              "      <td>0.029718</td>\n",
              "      <td>0.000133</td>\n",
              "      <td>0.000608</td>\n",
              "      <td>0.000034</td>\n",
              "      <td>0.000080</td>\n",
              "      <td>White</td>\n",
              "    </tr>\n",
              "    <tr>\n",
              "      <th>3</th>\n",
              "      <td>Cheshire</td>\n",
              "      <td>0.005591</td>\n",
              "      <td>0.000062</td>\n",
              "      <td>0.000061</td>\n",
              "      <td>0.000076</td>\n",
              "      <td>0.000050</td>\n",
              "      <td>White</td>\n",
              "    </tr>\n",
              "    <tr>\n",
              "      <th>4</th>\n",
              "      <td>Cumbria</td>\n",
              "      <td>0.019309</td>\n",
              "      <td>0.000058</td>\n",
              "      <td>0.000108</td>\n",
              "      <td>0.000022</td>\n",
              "      <td>0.000062</td>\n",
              "      <td>White</td>\n",
              "    </tr>\n",
              "  </tbody>\n",
              "</table>\n",
              "</div>"
            ],
            "text/plain": [
              "     Geography  SS_White  SS_Black  SS_Asian  SS_Other  SS_Mixed Max_obs\n",
              "0    Cleveland  0.051672  0.000407  0.001086  0.000269  0.000244   White\n",
              "1       Durham  0.007834  0.000024  0.000024  0.000016  0.000023   White\n",
              "2  Northumbria  0.029718  0.000133  0.000608  0.000034  0.000080   White\n",
              "3     Cheshire  0.005591  0.000062  0.000061  0.000076  0.000050   White\n",
              "4      Cumbria  0.019309  0.000058  0.000108  0.000022  0.000062   White"
            ]
          },
          "metadata": {
            "tags": []
          },
          "execution_count": 4
        }
      ]
    },
    {
      "cell_type": "code",
      "metadata": {
        "colab": {
          "base_uri": "https://localhost:8080/"
        },
        "id": "2bOtadgIzlA3",
        "outputId": "49d71ca5-9f89-40c9-d5cf-99e07f56f92b"
      },
      "source": [
        "rs1['Max_obs'].value_counts()\n",
        "\n",
        "# We find using this measure emnt of the bias leading the over-estimation of the one ethnic group which is 'white' in this instance.\n",
        "# Hence due to this caveat, this method will be disregarded and not used the this studies analysis."
      ],
      "execution_count": 5,
      "outputs": [
        {
          "output_type": "execute_result",
          "data": {
            "text/plain": [
              "White    42\n",
              "Name: Max_obs, dtype: int64"
            ]
          },
          "metadata": {
            "tags": []
          },
          "execution_count": 5
        }
      ]
    },
    {
      "cell_type": "markdown",
      "metadata": {
        "id": "LNoy3yCRzg_v"
      },
      "source": [
        "## 2. Stop and Search vs. Available Population\n",
        "#### Here, we calculation the ratio between stop and Search incidents by ethinic and the total population to of the respective ethnic group. "
      ]
    },
    {
      "cell_type": "code",
      "metadata": {
        "colab": {
          "base_uri": "https://localhost:8080/",
          "height": 195
        },
        "id": "4PhleRXA0u1v",
        "outputId": "da0cd741-13e2-4775-8ef8-e957c463b980"
      },
      "source": [
        "ap = rs.copy()\n",
        "ap_rate =  pd.DataFrame(ap.iloc[:,1:6].values/ap.iloc[:,6:].values, columns=ap.columns[6:])\n",
        "ap1 = pd.concat([ap['Geography'],ap_rate],axis=1)\n",
        "\n",
        "apmax = []\n",
        "for i in range(len(ap1)):\n",
        "  coln = ap.columns[6:]\n",
        "  apmax.append(coln[np.argmax(ap1.iloc[i,1:])])\n",
        "\n",
        "ap1['Max_obs'] = apmax\n",
        "ap1.head(5)"
      ],
      "execution_count": 6,
      "outputs": [
        {
          "output_type": "execute_result",
          "data": {
            "text/html": [
              "<div>\n",
              "<style scoped>\n",
              "    .dataframe tbody tr th:only-of-type {\n",
              "        vertical-align: middle;\n",
              "    }\n",
              "\n",
              "    .dataframe tbody tr th {\n",
              "        vertical-align: top;\n",
              "    }\n",
              "\n",
              "    .dataframe thead th {\n",
              "        text-align: right;\n",
              "    }\n",
              "</style>\n",
              "<table border=\"1\" class=\"dataframe\">\n",
              "  <thead>\n",
              "    <tr style=\"text-align: right;\">\n",
              "      <th></th>\n",
              "      <th>Geography</th>\n",
              "      <th>White</th>\n",
              "      <th>Black</th>\n",
              "      <th>Asian</th>\n",
              "      <th>Other</th>\n",
              "      <th>Mixed</th>\n",
              "      <th>Max_obs</th>\n",
              "    </tr>\n",
              "  </thead>\n",
              "  <tbody>\n",
              "    <tr>\n",
              "      <th>0</th>\n",
              "      <td>Cleveland</td>\n",
              "      <td>0.054692</td>\n",
              "      <td>0.071926</td>\n",
              "      <td>0.034732</td>\n",
              "      <td>0.033829</td>\n",
              "      <td>0.023603</td>\n",
              "      <td>Black</td>\n",
              "    </tr>\n",
              "    <tr>\n",
              "      <th>1</th>\n",
              "      <td>Durham</td>\n",
              "      <td>0.008008</td>\n",
              "      <td>0.014178</td>\n",
              "      <td>0.002933</td>\n",
              "      <td>0.003300</td>\n",
              "      <td>0.003302</td>\n",
              "      <td>Black</td>\n",
              "    </tr>\n",
              "    <tr>\n",
              "      <th>2</th>\n",
              "      <td>Northumbria</td>\n",
              "      <td>0.031423</td>\n",
              "      <td>0.020986</td>\n",
              "      <td>0.022868</td>\n",
              "      <td>0.002742</td>\n",
              "      <td>0.009159</td>\n",
              "      <td>White</td>\n",
              "    </tr>\n",
              "    <tr>\n",
              "      <th>3</th>\n",
              "      <td>Cheshire</td>\n",
              "      <td>0.005769</td>\n",
              "      <td>0.019608</td>\n",
              "      <td>0.004924</td>\n",
              "      <td>0.014914</td>\n",
              "      <td>0.004893</td>\n",
              "      <td>Black</td>\n",
              "    </tr>\n",
              "    <tr>\n",
              "      <th>4</th>\n",
              "      <td>Cumbria</td>\n",
              "      <td>0.019608</td>\n",
              "      <td>0.050086</td>\n",
              "      <td>0.018538</td>\n",
              "      <td>0.006854</td>\n",
              "      <td>0.012380</td>\n",
              "      <td>Black</td>\n",
              "    </tr>\n",
              "  </tbody>\n",
              "</table>\n",
              "</div>"
            ],
            "text/plain": [
              "     Geography     White     Black     Asian     Other     Mixed Max_obs\n",
              "0    Cleveland  0.054692  0.071926  0.034732  0.033829  0.023603   Black\n",
              "1       Durham  0.008008  0.014178  0.002933  0.003300  0.003302   Black\n",
              "2  Northumbria  0.031423  0.020986  0.022868  0.002742  0.009159   White\n",
              "3     Cheshire  0.005769  0.019608  0.004924  0.014914  0.004893   Black\n",
              "4      Cumbria  0.019608  0.050086  0.018538  0.006854  0.012380   Black"
            ]
          },
          "metadata": {
            "tags": []
          },
          "execution_count": 6
        }
      ]
    },
    {
      "cell_type": "code",
      "metadata": {
        "colab": {
          "base_uri": "https://localhost:8080/"
        },
        "id": "UboUo3tT2iq3",
        "outputId": "45e5a42a-8c6d-4f56-eb54-50e969482466"
      },
      "source": [
        "ap1['Max_obs'].value_counts()\n",
        "\n",
        "## In contrats to the 'Resident Population' observation, here we observe as proprotionated values.\n",
        "## This clearly shows the disproportion risk risk of the Black ethnicity towards stop and search in comparison to the other ethnicities.\n",
        "## There expections such as in the case of North Yorkshire and Northumbria, where 'Asian' and 'White' populations are comparitively at higher risk. "
      ],
      "execution_count": 7,
      "outputs": [
        {
          "output_type": "execute_result",
          "data": {
            "text/plain": [
              "Black    40\n",
              "Asian     1\n",
              "White     1\n",
              "Name: Max_obs, dtype: int64"
            ]
          },
          "metadata": {
            "tags": []
          },
          "execution_count": 7
        }
      ]
    },
    {
      "cell_type": "code",
      "metadata": {
        "colab": {
          "base_uri": "https://localhost:8080/",
          "height": 343
        },
        "id": "xDslJG4a4gLl",
        "outputId": "42b9e33e-0386-4b1f-983f-3de72e4a444b"
      },
      "source": [
        "# Using varince to estimate the most biased Police Departments\n",
        "\n",
        "ap1['Bias'] = np.var(ap1.iloc[:,1:-1].values, axis=1)\n",
        "ap1[['Geography','Bias']].sort_values(by='Bias', ascending=False).head(10)"
      ],
      "execution_count": 8,
      "outputs": [
        {
          "output_type": "execute_result",
          "data": {
            "text/html": [
              "<div>\n",
              "<style scoped>\n",
              "    .dataframe tbody tr th:only-of-type {\n",
              "        vertical-align: middle;\n",
              "    }\n",
              "\n",
              "    .dataframe tbody tr th {\n",
              "        vertical-align: top;\n",
              "    }\n",
              "\n",
              "    .dataframe thead th {\n",
              "        text-align: right;\n",
              "    }\n",
              "</style>\n",
              "<table border=\"1\" class=\"dataframe\">\n",
              "  <thead>\n",
              "    <tr style=\"text-align: right;\">\n",
              "      <th></th>\n",
              "      <th>Geography</th>\n",
              "      <th>Bias</th>\n",
              "    </tr>\n",
              "  </thead>\n",
              "  <tbody>\n",
              "    <tr>\n",
              "      <th>27</th>\n",
              "      <td>Metropolitan Police</td>\n",
              "      <td>0.002172</td>\n",
              "    </tr>\n",
              "    <tr>\n",
              "      <th>35</th>\n",
              "      <td>Dorset</td>\n",
              "      <td>0.001140</td>\n",
              "    </tr>\n",
              "    <tr>\n",
              "      <th>25</th>\n",
              "      <td>Norfolk</td>\n",
              "      <td>0.000636</td>\n",
              "    </tr>\n",
              "    <tr>\n",
              "      <th>13</th>\n",
              "      <td>Leicestershire</td>\n",
              "      <td>0.000503</td>\n",
              "    </tr>\n",
              "    <tr>\n",
              "      <th>31</th>\n",
              "      <td>Sussex</td>\n",
              "      <td>0.000431</td>\n",
              "    </tr>\n",
              "    <tr>\n",
              "      <th>38</th>\n",
              "      <td>Dyfed-Powys</td>\n",
              "      <td>0.000325</td>\n",
              "    </tr>\n",
              "    <tr>\n",
              "      <th>0</th>\n",
              "      <td>Cleveland</td>\n",
              "      <td>0.000300</td>\n",
              "    </tr>\n",
              "    <tr>\n",
              "      <th>19</th>\n",
              "      <td>West Mercia</td>\n",
              "      <td>0.000269</td>\n",
              "    </tr>\n",
              "    <tr>\n",
              "      <th>28</th>\n",
              "      <td>Hampshire</td>\n",
              "      <td>0.000263</td>\n",
              "    </tr>\n",
              "    <tr>\n",
              "      <th>30</th>\n",
              "      <td>Surrey</td>\n",
              "      <td>0.000251</td>\n",
              "    </tr>\n",
              "  </tbody>\n",
              "</table>\n",
              "</div>"
            ],
            "text/plain": [
              "              Geography      Bias\n",
              "27  Metropolitan Police  0.002172\n",
              "35               Dorset  0.001140\n",
              "25              Norfolk  0.000636\n",
              "13       Leicestershire  0.000503\n",
              "31               Sussex  0.000431\n",
              "38          Dyfed-Powys  0.000325\n",
              "0             Cleveland  0.000300\n",
              "19          West Mercia  0.000269\n",
              "28            Hampshire  0.000263\n",
              "30               Surrey  0.000251"
            ]
          },
          "metadata": {
            "tags": []
          },
          "execution_count": 8
        }
      ]
    },
    {
      "cell_type": "code",
      "metadata": {
        "id": "JsoyXSlkQWtH"
      },
      "source": [
        "# Creating csv file for bias\n",
        "\n",
        "ap1[['Geography','Bias']].to_csv('Police_Bias_1.csv')"
      ],
      "execution_count": 9,
      "outputs": []
    },
    {
      "cell_type": "markdown",
      "metadata": {
        "id": "OMbciQ7z9jXS"
      },
      "source": [
        "## 3. Stop & Search vs. Crime Rates\n",
        "#### Here, we compare in crime rate (equated using the ration of number arrest to population by ethinicity) and stop and search rate. For this, we use the spreaman rank correlation method as we are comparing the correlation between the dicrete categories of the ethinics in terms of their arrest and ss rates. From we look to estimate bias based on the correlation coefficient, i.e., lower the correlation higher the bias and vice-versa. "
      ]
    },
    {
      "cell_type": "code",
      "metadata": {
        "id": "Ku04vNRcFTUC"
      },
      "source": [
        "# Fetching Arrest Rate And Stop & Search Rate Data from Git repo\n",
        "\n",
        "ss_rate = pd.read_csv('https://raw.githubusercontent.com/neerajthandayan/CourseProject/main/Data/ss_rate.csv', index_col=0)\n",
        "ar_rate = pd.read_csv('https://raw.githubusercontent.com/neerajthandayan/CourseProject/main/Data/ar_rate.csv', index_col=0)"
      ],
      "execution_count": 10,
      "outputs": []
    },
    {
      "cell_type": "code",
      "metadata": {
        "colab": {
          "base_uri": "https://localhost:8080/",
          "height": 343
        },
        "id": "36GjvJ85GPMf",
        "outputId": "76cbfb01-15ba-4eb0-e8bf-8c7faa684599"
      },
      "source": [
        "# Calculating the spearman rank correlaton between arrest rate and SS rate\n",
        "\n",
        "arss = ss_rate.merge(ar_rate, on='Geography')\n",
        "arss.iloc[:,1:6] = arss.iloc[:,1:6].copy().rank(axis=1)\n",
        "arss.iloc[:,6:] = arss.iloc[:,6:].copy().rank(axis=1)\n",
        "diffsq =  pd.DataFrame(np.square(arss.iloc[:,1:6].values - arss.iloc[:,6:].values))\n",
        "arssbias = pd.concat([arss['Geography'],diffsq], axis=1)\n",
        "arssbias['sumd'] = arssbias.iloc[:,1:].sum(axis=1)\n",
        "arssbias['ARSS_Bias'] = 1 - ((6*(arssbias['sumd']))/120)\n",
        "arssbias[['Geography','ARSS_Bias']].sort_values(by='ARSS_Bias').head(10)"
      ],
      "execution_count": 11,
      "outputs": [
        {
          "output_type": "execute_result",
          "data": {
            "text/html": [
              "<div>\n",
              "<style scoped>\n",
              "    .dataframe tbody tr th:only-of-type {\n",
              "        vertical-align: middle;\n",
              "    }\n",
              "\n",
              "    .dataframe tbody tr th {\n",
              "        vertical-align: top;\n",
              "    }\n",
              "\n",
              "    .dataframe thead th {\n",
              "        text-align: right;\n",
              "    }\n",
              "</style>\n",
              "<table border=\"1\" class=\"dataframe\">\n",
              "  <thead>\n",
              "    <tr style=\"text-align: right;\">\n",
              "      <th></th>\n",
              "      <th>Geography</th>\n",
              "      <th>ARSS_Bias</th>\n",
              "    </tr>\n",
              "  </thead>\n",
              "  <tbody>\n",
              "    <tr>\n",
              "      <th>21</th>\n",
              "      <td>Lincolnshire</td>\n",
              "      <td>-0.3</td>\n",
              "    </tr>\n",
              "    <tr>\n",
              "      <th>26</th>\n",
              "      <td>North Yorkshire</td>\n",
              "      <td>0.0</td>\n",
              "    </tr>\n",
              "    <tr>\n",
              "      <th>23</th>\n",
              "      <td>Metropolitan Police</td>\n",
              "      <td>0.4</td>\n",
              "    </tr>\n",
              "    <tr>\n",
              "      <th>38</th>\n",
              "      <td>West Midlands</td>\n",
              "      <td>0.4</td>\n",
              "    </tr>\n",
              "    <tr>\n",
              "      <th>4</th>\n",
              "      <td>Cleveland</td>\n",
              "      <td>0.6</td>\n",
              "    </tr>\n",
              "    <tr>\n",
              "      <th>34</th>\n",
              "      <td>Surrey</td>\n",
              "      <td>0.6</td>\n",
              "    </tr>\n",
              "    <tr>\n",
              "      <th>7</th>\n",
              "      <td>Devon and Cornwall</td>\n",
              "      <td>0.6</td>\n",
              "    </tr>\n",
              "    <tr>\n",
              "      <th>33</th>\n",
              "      <td>Suffolk</td>\n",
              "      <td>0.6</td>\n",
              "    </tr>\n",
              "    <tr>\n",
              "      <th>18</th>\n",
              "      <td>Kent</td>\n",
              "      <td>0.6</td>\n",
              "    </tr>\n",
              "    <tr>\n",
              "      <th>16</th>\n",
              "      <td>Hertfordshire</td>\n",
              "      <td>0.6</td>\n",
              "    </tr>\n",
              "  </tbody>\n",
              "</table>\n",
              "</div>"
            ],
            "text/plain": [
              "              Geography  ARSS_Bias\n",
              "21         Lincolnshire       -0.3\n",
              "26      North Yorkshire        0.0\n",
              "23  Metropolitan Police        0.4\n",
              "38        West Midlands        0.4\n",
              "4             Cleveland        0.6\n",
              "34               Surrey        0.6\n",
              "7    Devon and Cornwall        0.6\n",
              "33              Suffolk        0.6\n",
              "18                 Kent        0.6\n",
              "16        Hertfordshire        0.6"
            ]
          },
          "metadata": {
            "tags": []
          },
          "execution_count": 11
        }
      ]
    },
    {
      "cell_type": "markdown",
      "metadata": {
        "id": "K6okfBveKp2b"
      },
      "source": [
        "## Stop Search vs. Hit Rate\n",
        "#### Same methodology as the above-section.\n",
        "#### Note: Hit Rate is calculated using the ratio of the stop and searchs to consequent arrest resulting from the same by ethinicity."
      ]
    },
    {
      "cell_type": "code",
      "metadata": {
        "id": "mW13cemAJPtx"
      },
      "source": [
        "# Importinh Hit Rate Data\n",
        "\n",
        "h_rate = pd.read_csv('https://raw.githubusercontent.com/neerajthandayan/CourseProject/main/Data/hit_rate.csv', index_col=0)"
      ],
      "execution_count": 12,
      "outputs": []
    },
    {
      "cell_type": "code",
      "metadata": {
        "colab": {
          "base_uri": "https://localhost:8080/",
          "height": 343
        },
        "id": "U1UNFDLCQIjf",
        "outputId": "4dfff1f4-0e28-47cf-e3b1-5e11c6ee5639"
      },
      "source": [
        "## Measuring Bias Spearman rank correlation of the Stop & Search Rate and Hit Rate\n",
        "\n",
        "sshr = ss_rate.merge(h_rate, on='Geography')\n",
        "sshr.iloc[:,1:6] = sshr.iloc[:,1:6].copy().rank(axis=1)\n",
        "sshr.iloc[:,6:] = sshr.iloc[:,6:].copy().rank(axis=1)\n",
        "diffsq1 =  pd.DataFrame(np.square(sshr.iloc[:,1:6].values - sshr.iloc[:,6:].values))\n",
        "sshrbias = pd.concat([sshr['Geography'],diffsq1], axis=1)\n",
        "sshrbias['sumd'] = sshrbias.iloc[:,1:].sum(axis=1)\n",
        "sshrbias['SSHR_Bias'] = 1 - ((6*(sshrbias['sumd']))/120)\n",
        "sshrbias[['Geography','SSHR_Bias']].sort_values(by='SSHR_Bias').head(10)"
      ],
      "execution_count": 13,
      "outputs": [
        {
          "output_type": "execute_result",
          "data": {
            "text/html": [
              "<div>\n",
              "<style scoped>\n",
              "    .dataframe tbody tr th:only-of-type {\n",
              "        vertical-align: middle;\n",
              "    }\n",
              "\n",
              "    .dataframe tbody tr th {\n",
              "        vertical-align: top;\n",
              "    }\n",
              "\n",
              "    .dataframe thead th {\n",
              "        text-align: right;\n",
              "    }\n",
              "</style>\n",
              "<table border=\"1\" class=\"dataframe\">\n",
              "  <thead>\n",
              "    <tr style=\"text-align: right;\">\n",
              "      <th></th>\n",
              "      <th>Geography</th>\n",
              "      <th>SSHR_Bias</th>\n",
              "    </tr>\n",
              "  </thead>\n",
              "  <tbody>\n",
              "    <tr>\n",
              "      <th>28</th>\n",
              "      <td>Northumbria</td>\n",
              "      <td>-1.0</td>\n",
              "    </tr>\n",
              "    <tr>\n",
              "      <th>14</th>\n",
              "      <td>Gwent</td>\n",
              "      <td>-0.9</td>\n",
              "    </tr>\n",
              "    <tr>\n",
              "      <th>4</th>\n",
              "      <td>Cleveland</td>\n",
              "      <td>-0.8</td>\n",
              "    </tr>\n",
              "    <tr>\n",
              "      <th>23</th>\n",
              "      <td>Metropolitan Police</td>\n",
              "      <td>-0.8</td>\n",
              "    </tr>\n",
              "    <tr>\n",
              "      <th>27</th>\n",
              "      <td>Northamptonshire</td>\n",
              "      <td>-0.8</td>\n",
              "    </tr>\n",
              "    <tr>\n",
              "      <th>35</th>\n",
              "      <td>Sussex</td>\n",
              "      <td>-0.8</td>\n",
              "    </tr>\n",
              "    <tr>\n",
              "      <th>1</th>\n",
              "      <td>Bedfordshire</td>\n",
              "      <td>-0.7</td>\n",
              "    </tr>\n",
              "    <tr>\n",
              "      <th>25</th>\n",
              "      <td>North Wales</td>\n",
              "      <td>-0.7</td>\n",
              "    </tr>\n",
              "    <tr>\n",
              "      <th>13</th>\n",
              "      <td>Greater Manchester</td>\n",
              "      <td>-0.7</td>\n",
              "    </tr>\n",
              "    <tr>\n",
              "      <th>12</th>\n",
              "      <td>Gloucestershire</td>\n",
              "      <td>-0.5</td>\n",
              "    </tr>\n",
              "  </tbody>\n",
              "</table>\n",
              "</div>"
            ],
            "text/plain": [
              "              Geography  SSHR_Bias\n",
              "28          Northumbria       -1.0\n",
              "14                Gwent       -0.9\n",
              "4             Cleveland       -0.8\n",
              "23  Metropolitan Police       -0.8\n",
              "27     Northamptonshire       -0.8\n",
              "35               Sussex       -0.8\n",
              "1          Bedfordshire       -0.7\n",
              "25          North Wales       -0.7\n",
              "13   Greater Manchester       -0.7\n",
              "12      Gloucestershire       -0.5"
            ]
          },
          "metadata": {
            "tags": []
          },
          "execution_count": 13
        }
      ]
    },
    {
      "cell_type": "code",
      "metadata": {
        "id": "0OBmYreyQjzi"
      },
      "source": [
        "# reating csv file\n",
        "\n",
        "sshrbias[['Geography','SSHR_Bias']].to_csv('Police_Bias_2.csv')"
      ],
      "execution_count": 14,
      "outputs": []
    }
  ]
}